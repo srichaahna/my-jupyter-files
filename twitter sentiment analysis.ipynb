{
 "cells": [
  {
   "cell_type": "code",
   "execution_count": 1,
   "id": "89a2559e",
   "metadata": {},
   "outputs": [],
   "source": [
    "import pandas as pd\n",
    "import numpy as np\n",
    "     \n",
    "\n",
    "import re\n",
    "import nltk # importing natural language tool kit\n",
    "from nltk.corpus import stopwords # from corpus module importing stopwords used to remove(is,was etc..)\n",
    "from nltk.classify import SklearnClassifier #classification based model\n",
    "from nltk.stem import WordNetLemmatizer #reduces the words into its base form\n"
   ]
  },
  {
   "cell_type": "code",
   "execution_count": 2,
   "id": "a4bfb0b2",
   "metadata": {},
   "outputs": [],
   "source": [
    "import seaborn as sns\n",
    "import matplotlib.pyplot as plt"
   ]
  },
  {
   "cell_type": "code",
   "execution_count": 3,
   "id": "0850e614",
   "metadata": {},
   "outputs": [
    {
     "name": "stdout",
     "output_type": "stream",
     "text": [
      "Defaulting to user installation because normal site-packages is not writeable\n",
      "Collecting wordcloud\n",
      "  Obtaining dependency information for wordcloud from https://files.pythonhosted.org/packages/ca/4a/49ceaa60945f2e0077c25117dd99c7e6efdea9cc970787d0637a36e39014/wordcloud-1.9.2-cp39-cp39-win_amd64.whl.metadata\n",
      "  Downloading wordcloud-1.9.2-cp39-cp39-win_amd64.whl.metadata (3.4 kB)\n",
      "Requirement already satisfied: numpy>=1.6.1 in c:\\users\\srich\\appdata\\roaming\\python\\python39\\site-packages (from wordcloud) (1.23.5)\n",
      "Requirement already satisfied: pillow in c:\\programdata\\anaconda3\\lib\\site-packages (from wordcloud) (9.2.0)\n",
      "Requirement already satisfied: matplotlib in c:\\programdata\\anaconda3\\lib\\site-packages (from wordcloud) (3.5.2)\n",
      "Requirement already satisfied: cycler>=0.10 in c:\\programdata\\anaconda3\\lib\\site-packages (from matplotlib->wordcloud) (0.11.0)\n",
      "Requirement already satisfied: fonttools>=4.22.0 in c:\\programdata\\anaconda3\\lib\\site-packages (from matplotlib->wordcloud) (4.25.0)\n",
      "Requirement already satisfied: kiwisolver>=1.0.1 in c:\\programdata\\anaconda3\\lib\\site-packages (from matplotlib->wordcloud) (1.4.2)\n",
      "Requirement already satisfied: packaging>=20.0 in c:\\programdata\\anaconda3\\lib\\site-packages (from matplotlib->wordcloud) (21.3)\n",
      "Requirement already satisfied: pyparsing>=2.2.1 in c:\\programdata\\anaconda3\\lib\\site-packages (from matplotlib->wordcloud) (3.0.9)\n",
      "Requirement already satisfied: python-dateutil>=2.7 in c:\\programdata\\anaconda3\\lib\\site-packages (from matplotlib->wordcloud) (2.8.2)\n",
      "Requirement already satisfied: six>=1.5 in c:\\programdata\\anaconda3\\lib\\site-packages (from python-dateutil>=2.7->matplotlib->wordcloud) (1.16.0)\n",
      "Downloading wordcloud-1.9.2-cp39-cp39-win_amd64.whl (153 kB)\n",
      "   ---------------------------------------- 153.3/153.3 kB 1.8 MB/s eta 0:00:00\n",
      "Installing collected packages: wordcloud\n",
      "Successfully installed wordcloud-1.9.2\n",
      "Note: you may need to restart the kernel to use updated packages.\n"
     ]
    },
    {
     "name": "stderr",
     "output_type": "stream",
     "text": [
      "  WARNING: The script wordcloud_cli.exe is installed in 'C:\\Users\\srich\\AppData\\Roaming\\Python\\Python39\\Scripts' which is not on PATH.\n",
      "  Consider adding this directory to PATH or, if you prefer to suppress this warning, use --no-warn-script-location.\n"
     ]
    }
   ],
   "source": [
    "pip install wordcloud"
   ]
  },
  {
   "cell_type": "code",
   "execution_count": 4,
   "id": "cd2fb6a9",
   "metadata": {},
   "outputs": [],
   "source": [
    "from wordcloud import WordCloud,STOPWORDS"
   ]
  },
  {
   "cell_type": "code",
   "execution_count": 10,
   "id": "f9796c2e",
   "metadata": {},
   "outputs": [],
   "source": [
    "data = pd.read_csv(\"G:\\\\Datasets\\\\twitter.csv\", encoding=\"ISO-8859-1\")\n"
   ]
  },
  {
   "cell_type": "code",
   "execution_count": 11,
   "id": "5a080935",
   "metadata": {},
   "outputs": [
    {
     "name": "stdout",
     "output_type": "stream",
     "text": [
      "     3364             Facebook  Irrelevant  \\\n",
      "0     352               Amazon     Neutral   \n",
      "1    8312            Microsoft    Negative   \n",
      "2    4371                CS-GO    Negative   \n",
      "3    4433               Google     Neutral   \n",
      "4    6273                 FIFA    Negative   \n",
      "..    ...                  ...         ...   \n",
      "994  4891  GrandTheftAuto(GTA)  Irrelevant   \n",
      "995  4359                CS-GO  Irrelevant   \n",
      "996  2652          Borderlands    Positive   \n",
      "997  8069            Microsoft    Positive   \n",
      "998  6960      johnson&johnson     Neutral   \n",
      "\n",
      "    I mentioned on Facebook that I was struggling for motivation to go for a run the other day, which has been translated by Tomâs great auntie as âHayley canât get out of bedâ and told to his grandma, who now thinks Iâm a lazy, terrible person ð¤£  \n",
      "0    BBC News - Amazon boss Jeff Bezos rejects clai...                                                                                                                                                                                                               \n",
      "1    @Microsoft Why do I pay for WORD when it funct...                                                                                                                                                                                                               \n",
      "2    CSGO matchmaking is so full of closet hacking,...                                                                                                                                                                                                               \n",
      "3    Now the President is slapping Americans in the...                                                                                                                                                                                                               \n",
      "4    Hi @EAHelp Iâve had Madeleine McCann in my c...                                                                                                                                                                                                               \n",
      "..                                                 ...                                                                                                                                                                                                               \n",
      "994  â­ï¸ Toronto is the arts and culture capital...                                                                                                                                                                                                               \n",
      "995  tHIS IS ACTUALLY A GOOD MOVE TOT BRING MORE VI...                                                                                                                                                                                                               \n",
      "996  Today sucked so itâs time to drink wine n pl...                                                                                                                                                                                                               \n",
      "997  Bought a fraction of Microsoft today. Small wins.                                                                                                                                                                                                               \n",
      "998  Johnson & Johnson to stop selling talc baby po...                                                                                                                                                                                                               \n",
      "\n",
      "[999 rows x 4 columns]\n"
     ]
    }
   ],
   "source": [
    "print(data)"
   ]
  },
  {
   "cell_type": "code",
   "execution_count": 12,
   "id": "b53d6b06",
   "metadata": {},
   "outputs": [
    {
     "name": "stdout",
     "output_type": "stream",
     "text": [
      "<class 'pandas.core.frame.DataFrame'>\n",
      "RangeIndex: 999 entries, 0 to 998\n",
      "Data columns (total 4 columns):\n",
      " #   Column                                                                                                                                                                                                                                                           Non-Null Count  Dtype \n",
      "---  ------                                                                                                                                                                                                                                                           --------------  ----- \n",
      " 0   3364                                                                                                                                                                                                                                                             999 non-null    int64 \n",
      " 1   Facebook                                                                                                                                                                                                                                                         999 non-null    object\n",
      " 2   Irrelevant                                                                                                                                                                                                                                                       999 non-null    object\n",
      " 3   I mentioned on Facebook that I was struggling for motivation to go for a run the other day, which has been translated by Tomâs great auntie as âHayley canât get out of bedâ and told to his grandma, who now thinks Iâm a lazy, terrible person ð¤£  999 non-null    object\n",
      "dtypes: int64(1), object(3)\n",
      "memory usage: 31.3+ KB\n"
     ]
    }
   ],
   "source": [
    "data.info()\n",
    "     "
   ]
  },
  {
   "cell_type": "code",
   "execution_count": 13,
   "id": "73491f52",
   "metadata": {},
   "outputs": [
    {
     "data": {
      "text/plain": [
       "(999, 4)"
      ]
     },
     "execution_count": 13,
     "metadata": {},
     "output_type": "execute_result"
    }
   ],
   "source": [
    "data.shape"
   ]
  },
  {
   "cell_type": "code",
   "execution_count": 14,
   "id": "11fdc8fd",
   "metadata": {},
   "outputs": [
    {
     "data": {
      "text/plain": [
       "<bound method NDFrame.head of      3364             Facebook  Irrelevant  \\\n",
       "0     352               Amazon     Neutral   \n",
       "1    8312            Microsoft    Negative   \n",
       "2    4371                CS-GO    Negative   \n",
       "3    4433               Google     Neutral   \n",
       "4    6273                 FIFA    Negative   \n",
       "..    ...                  ...         ...   \n",
       "994  4891  GrandTheftAuto(GTA)  Irrelevant   \n",
       "995  4359                CS-GO  Irrelevant   \n",
       "996  2652          Borderlands    Positive   \n",
       "997  8069            Microsoft    Positive   \n",
       "998  6960      johnson&johnson     Neutral   \n",
       "\n",
       "    I mentioned on Facebook that I was struggling for motivation to go for a run the other day, which has been translated by Tomâs great auntie as âHayley canât get out of bedâ and told to his grandma, who now thinks Iâm a lazy, terrible person ð¤£  \n",
       "0    BBC News - Amazon boss Jeff Bezos rejects clai...                                                                                                                                                                                                               \n",
       "1    @Microsoft Why do I pay for WORD when it funct...                                                                                                                                                                                                               \n",
       "2    CSGO matchmaking is so full of closet hacking,...                                                                                                                                                                                                               \n",
       "3    Now the President is slapping Americans in the...                                                                                                                                                                                                               \n",
       "4    Hi @EAHelp Iâve had Madeleine McCann in my c...                                                                                                                                                                                                               \n",
       "..                                                 ...                                                                                                                                                                                                               \n",
       "994  â­ï¸ Toronto is the arts and culture capital...                                                                                                                                                                                                               \n",
       "995  tHIS IS ACTUALLY A GOOD MOVE TOT BRING MORE VI...                                                                                                                                                                                                               \n",
       "996  Today sucked so itâs time to drink wine n pl...                                                                                                                                                                                                               \n",
       "997  Bought a fraction of Microsoft today. Small wins.                                                                                                                                                                                                               \n",
       "998  Johnson & Johnson to stop selling talc baby po...                                                                                                                                                                                                               \n",
       "\n",
       "[999 rows x 4 columns]>"
      ]
     },
     "execution_count": 14,
     "metadata": {},
     "output_type": "execute_result"
    }
   ],
   "source": [
    "data.head"
   ]
  },
  {
   "cell_type": "code",
   "execution_count": 15,
   "id": "051bbb14",
   "metadata": {},
   "outputs": [
    {
     "data": {
      "text/plain": [
       "Index(['3364', 'Facebook', 'Irrelevant',\n",
       "       'I mentioned on Facebook that I was struggling for motivation to go for a run the other day, which has been translated by Tomâs great auntie as âHayley canât get out of bedâ and told to his grandma, who now thinks Iâm a lazy, terrible person ð¤£'],\n",
       "      dtype='object')"
      ]
     },
     "execution_count": 15,
     "metadata": {},
     "output_type": "execute_result"
    }
   ],
   "source": [
    "data.columns"
   ]
  },
  {
   "cell_type": "code",
   "execution_count": 16,
   "id": "156079a1",
   "metadata": {},
   "outputs": [
    {
     "data": {
      "text/plain": [
       "3364                                                                                                                                                                                                                                                               0\n",
       "Facebook                                                                                                                                                                                                                                                           0\n",
       "Irrelevant                                                                                                                                                                                                                                                         0\n",
       "I mentioned on Facebook that I was struggling for motivation to go for a run the other day, which has been translated by Tomâs great auntie as âHayley canât get out of bedâ and told to his grandma, who now thinks Iâm a lazy, terrible person ð¤£    0\n",
       "dtype: int64"
      ]
     },
     "execution_count": 16,
     "metadata": {},
     "output_type": "execute_result"
    }
   ],
   "source": [
    "data.isna().sum()"
   ]
  },
  {
   "cell_type": "code",
   "execution_count": 17,
   "id": "af96fe88",
   "metadata": {},
   "outputs": [
    {
     "data": {
      "text/plain": [
       "0"
      ]
     },
     "execution_count": 17,
     "metadata": {},
     "output_type": "execute_result"
    }
   ],
   "source": [
    "data.duplicated().sum()\n",
    "\n",
    " "
   ]
  },
  {
   "cell_type": "code",
   "execution_count": 18,
   "id": "4e45f528",
   "metadata": {},
   "outputs": [
    {
     "data": {
      "image/png": "[encoded data removed]",
      "text/plain": [
       "<Figure size 640x480 with 1 Axes>"
      ]
     },
     "metadata": {},
     "output_type": "display_data"
    }
   ],
   "source": [
    "import pandas as pd\n",
    "import matplotlib.pyplot as plt\n",
    "\n",
    "# Load the data from a CSV file\n",
    "data = pd.read_csv(\"G:\\\\Datasets\\\\twitter.csv\", encoding=\"ISO-8859-1\")\n",
    "\n",
    "# Plot the distribution of sentiment values\n",
    "ax = data['sentiment'].value_counts().plot(kind='bar', title='Distribution of data')\n",
    "\n",
    "# Get the unique sentiment categories from the data\n",
    "unique_sentiments = data['sentiment'].unique()\n",
    "\n",
    "# Set the tick labels based on the unique sentiment categories\n",
    "ax.set_xticks(range(len(unique_sentiments)))\n",
    "ax.set_xticklabels(unique_sentiments, rotation=0)\n",
    "\n",
    "plt.show()\n"
   ]
  },
  {
   "cell_type": "code",
   "execution_count": null,
   "id": "ee459e52",
   "metadata": {},
   "outputs": [],
   "source": []
  },
  {
   "cell_type": "code",
   "execution_count": null,
   "id": "89e6bc03",
   "metadata": {},
   "outputs": [],
   "source": []
  }
 ],
 "metadata": {
  "kernelspec": {
   "display_name": "Python 3 (ipykernel)",
   "language": "python",
   "name": "python3"
  },
  "language_info": {
   "codemirror_mode": {
    "name": "ipython",
    "version": 3
   },
   "file_extension": ".py",
   "mimetype": "text/x-python",
   "name": "python",
   "nbconvert_exporter": "python",
   "pygments_lexer": "ipython3",
   "version": "3.9.13"
  }
 },
 "nbformat": 4,
 "nbformat_minor": 5
}
