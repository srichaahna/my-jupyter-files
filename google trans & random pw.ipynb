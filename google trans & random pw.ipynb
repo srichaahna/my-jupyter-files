{
 "cells": [
  {
   "cell_type": "code",
   "execution_count": 2,
   "id": "61c9df1c",
   "metadata": {},
   "outputs": [
    {
     "name": "stdout",
     "output_type": "stream",
     "text": [
      "Defaulting to user installation because normal site-packages is not writeable\n",
      "Collecting googletrans\n",
      "  Downloading googletrans-3.0.0.tar.gz (17 kB)\n",
      "  Preparing metadata (setup.py): started\n",
      "  Preparing metadata (setup.py): finished with status 'done'\n",
      "Collecting httpx==0.13.3 (from googletrans)\n",
      "  Downloading httpx-0.13.3-py3-none-any.whl (55 kB)\n",
      "     ---------------------------------------- 55.1/55.1 kB 1.4 MB/s eta 0:00:00\n",
      "Requirement already satisfied: certifi in c:\\programdata\\anaconda3\\lib\\site-packages (from httpx==0.13.3->googletrans) (2022.9.14)\n",
      "Collecting hstspreload (from httpx==0.13.3->googletrans)\n",
      "  Downloading hstspreload-2023.1.1-py3-none-any.whl (1.5 MB)\n",
      "     ---------------------------------------- 1.5/1.5 MB 4.7 MB/s eta 0:00:00\n",
      "Requirement already satisfied: sniffio in c:\\programdata\\anaconda3\\lib\\site-packages (from httpx==0.13.3->googletrans) (1.2.0)\n",
      "Collecting chardet==3.* (from httpx==0.13.3->googletrans)\n",
      "  Downloading chardet-3.0.4-py2.py3-none-any.whl (133 kB)\n",
      "     -------------------------------------- 133.4/133.4 kB 7.7 MB/s eta 0:00:00\n",
      "Collecting idna==2.* (from httpx==0.13.3->googletrans)\n",
      "  Downloading idna-2.10-py2.py3-none-any.whl (58 kB)\n",
      "     ---------------------------------------- 58.8/58.8 kB 3.0 MB/s eta 0:00:00\n",
      "Collecting rfc3986<2,>=1.3 (from httpx==0.13.3->googletrans)\n",
      "  Downloading rfc3986-1.5.0-py2.py3-none-any.whl (31 kB)\n",
      "Collecting httpcore==0.9.* (from httpx==0.13.3->googletrans)\n",
      "  Downloading httpcore-0.9.1-py3-none-any.whl (42 kB)\n",
      "     ---------------------------------------- 42.6/42.6 kB ? eta 0:00:00\n",
      "Collecting h11<0.10,>=0.8 (from httpcore==0.9.*->httpx==0.13.3->googletrans)\n",
      "  Downloading h11-0.9.0-py2.py3-none-any.whl (53 kB)\n",
      "     ---------------------------------------- 53.6/53.6 kB ? eta 0:00:00\n",
      "Collecting h2==3.* (from httpcore==0.9.*->httpx==0.13.3->googletrans)\n",
      "  Downloading h2-3.2.0-py2.py3-none-any.whl (65 kB)\n",
      "     ---------------------------------------- 65.0/65.0 kB 3.4 MB/s eta 0:00:00\n",
      "Collecting hyperframe<6,>=5.2.0 (from h2==3.*->httpcore==0.9.*->httpx==0.13.3->googletrans)\n",
      "  Downloading hyperframe-5.2.0-py2.py3-none-any.whl (12 kB)\n",
      "Collecting hpack<4,>=3.0 (from h2==3.*->httpcore==0.9.*->httpx==0.13.3->googletrans)\n",
      "  Downloading hpack-3.0.0-py2.py3-none-any.whl (38 kB)\n",
      "Building wheels for collected packages: googletrans\n",
      "  Building wheel for googletrans (setup.py): started\n",
      "  Building wheel for googletrans (setup.py): finished with status 'done'\n",
      "  Created wheel for googletrans: filename=googletrans-3.0.0-py3-none-any.whl size=15735 sha256=31df37f317f4452298c687384167f6a61b3a24bb47ca56f1547ba0382753176a\n",
      "  Stored in directory: c:\\users\\srich\\appdata\\local\\pip\\cache\\wheels\\27\\f3\\32\\d4859d40071f07a5df0ab6fdc0076e78a8a786625dde2b4b2f\n",
      "Successfully built googletrans\n",
      "Installing collected packages: rfc3986, hyperframe, hpack, h11, chardet, idna, hstspreload, h2, httpcore, httpx, googletrans\n",
      "Successfully installed chardet-3.0.4 googletrans-3.0.0 h11-0.9.0 h2-3.2.0 hpack-3.0.0 hstspreload-2023.1.1 httpcore-0.9.1 httpx-0.13.3 hyperframe-5.2.0 idna-2.10 rfc3986-1.5.0\n"
     ]
    },
    {
     "name": "stderr",
     "output_type": "stream",
     "text": [
      "  WARNING: The script chardetect.exe is installed in 'C:\\Users\\srich\\AppData\\Roaming\\Python\\Python39\\Scripts' which is not on PATH.\n",
      "  Consider adding this directory to PATH or, if you prefer to suppress this warning, use --no-warn-script-location.\n",
      "ERROR: pip's dependency resolver does not currently take into account all the packages that are installed. This behaviour is the source of the following dependency conflicts.\n",
      "spyder 5.2.2 requires pyqt5<5.13, which is not installed.\n",
      "spyder 5.2.2 requires pyqtwebengine<5.13, which is not installed.\n"
     ]
    }
   ],
   "source": [
    "!pip install googletrans"
   ]
  },
  {
   "cell_type": "code",
   "execution_count": 1,
   "id": "5744edeb",
   "metadata": {},
   "outputs": [],
   "source": [
    "from tkinter import *\n",
    "from tkinter import ttk, messagebox\n",
    "import googletrans\n",
    "\n",
    "root = Tk()\n",
    "root.title(\"Google Translator\")\n",
    "root.geometry(\"1080x400\")\n",
    "\n",
    "def label_change():\n",
    "    c = combo1.get()\n",
    "    c1 = combo2.get()\n",
    "    label1.configure(text=c)\n",
    "    label2.configure(text=c1)\n",
    "    root.after(1000, label_change)\n",
    "\n",
    "def translate_now():\n",
    "    try:\n",
    "        text_ = text1.get(1.0, END)\n",
    "        c2 = combo1.get()\n",
    "        c3 = combo2.get()\n",
    "        if text_:\n",
    "            translator = googletrans.Translator()\n",
    "            translation = translator.translate(text_, src=c2, dest=c3)\n",
    "            text2.delete(1.0, END)\n",
    "            text2.insert(END, translation.text)\n",
    "    except Exception as e:\n",
    "        messagebox.showerror(\"Translation Error\", \"An error occurred during translation.\")\n",
    "\n",
    "language = googletrans.LANGUAGES\n",
    "languageV = list(language.values())\n",
    "lang1 = language.keys()\n",
    "\n",
    "combo1 = ttk.Combobox(root, values=languageV, font=\"Roboto 14\", state=\"readonly\")\n",
    "combo1.place(x=110, y=20)\n",
    "combo1.set(\"English\")\n",
    "\n",
    "label1 = Label(root, text=\"ENGLISH\", font=\"segoe 30 bold\", bg=\"white\", width=18, bd=5, relief=GROOVE)\n",
    "label1.place(x=10, y=50)\n",
    "\n",
    "f = Frame(root, bg=\"Black\", bd=5)\n",
    "f.place(x=10, y=118, width=440, height=210)\n",
    "text1 = Text(f, font=\"Roboto 20\", bg=\"white\", relief=GROOVE, wrap=WORD)\n",
    "text1.place(x=0, y=0, width=430, height=200)\n",
    "\n",
    "scrollbar1 = Scrollbar(f)\n",
    "scrollbar1.pack(side=\"right\", fill=\"y\")\n",
    "scrollbar1.configure(command=text1.yview)\n",
    "text1.configure(yscrollcommand=scrollbar1.set)\n",
    "\n",
    "combo2 = ttk.Combobox(root, values=languageV, font=\"Roboto 14\", state=\"readonly\")\n",
    "combo2.place(x=730, y=20)\n",
    "combo2.set(\"SELECT LANGUAGE\")\n",
    "\n",
    "label2 = Label(root, text=\"ENGLISH\", font=\"segoe 30 bold\", bg=\"white\", width=18, bd=5, relief=GROOVE)\n",
    "label2.place(x=620, y=50)\n",
    "\n",
    "f1 = Frame(root, bg=\"Black\", bd=5)\n",
    "f1.place(x=620, y=118, width=440, height=210)\n",
    "text2 = Text(f1, font=\"Roboto 20\", bg=\"white\", relief=GROOVE, wrap=WORD)\n",
    "text2.place(x=0, y=0, width=430, height=200)\n",
    "\n",
    "scrollbar2 = Scrollbar(f1)\n",
    "scrollbar2.pack(side=\"right\", fill=\"y\")\n",
    "scrollbar2.configure(command=text2.yview)\n",
    "text2.configure(yscrollcommand=scrollbar2.set)\n",
    "\n",
    "translate = Button(root, text=\"Translate\", font=\"Roboto 15 bold italic\", activebackground=\"purple\",\n",
    "                   cursor=\"hand2\", bd=5, bg='red', fg=\"white\", command=translate_now)\n",
    "translate.place(x=480, y=250)\n",
    "\n",
    "label_change()\n",
    "\n",
    "root.configure(bg=\"white\")\n",
    "root.mainloop()"
   ]
  },
  {
   "cell_type": "code",
   "execution_count": null,
   "id": "8d9ebb10",
   "metadata": {},
   "outputs": [],
   "source": []
  },
  {
   "cell_type": "code",
   "execution_count": null,
   "id": "009f87d3",
   "metadata": {},
   "outputs": [],
   "source": []
  },
  {
   "cell_type": "code",
   "execution_count": null,
   "id": "aaeaf898",
   "metadata": {},
   "outputs": [],
   "source": []
  },
  {
   "cell_type": "code",
   "execution_count": 2,
   "id": "5e0f6713",
   "metadata": {},
   "outputs": [
    {
     "name": "stdout",
     "output_type": "stream",
     "text": [
      "Enter the desired length of the password: 11\n",
      "Generated Password: EtU]$AW_*m}\n"
     ]
    }
   ],
   "source": [
    "import random\n",
    "import string\n",
    "\n",
    "def generate_password(length):\n",
    "    characters = string.ascii_letters + string.digits + string.punctuation\n",
    "    password = ''.join(random.choice(characters) for _ in range(length))\n",
    "    return password\n",
    "\n",
    "length = int(input(\"Enter the desired length of the password: \"))\n",
    "password = generate_password(length)\n",
    "print(\"Generated Password:\", password)\n",
    "\n",
    "     "
   ]
  },
  {
   "cell_type": "code",
   "execution_count": null,
   "id": "f198fa2f",
   "metadata": {},
   "outputs": [],
   "source": []
  }
 ],
 "metadata": {
  "kernelspec": {
   "display_name": "Python 3 (ipykernel)",
   "language": "python",
   "name": "python3"
  },
  "language_info": {
   "codemirror_mode": {
    "name": "ipython",
    "version": 3
   },
   "file_extension": ".py",
   "mimetype": "text/x-python",
   "name": "python",
   "nbconvert_exporter": "python",
   "pygments_lexer": "ipython3",
   "version": "3.9.13"
  }
 },
 "nbformat": 4,
 "nbformat_minor": 5
}
